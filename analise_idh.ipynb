{
 "cells": [
  {
   "cell_type": "markdown",
   "id": "192447d5-5b95-4ae1-904d-ffc4895cbed8",
   "metadata": {},
   "source": [
    "# Atividade das cidades do Brasil visando IDH"
   ]
  },
  {
   "cell_type": "markdown",
   "id": "20c1024f-562b-40ed-bd8a-dfb42c63c4ec",
   "metadata": {},
   "source": [
    "Cenário:\n",
    "\n",
    "Um gestor público solicitou a uma consultoria um levantamento de diversas informações sobre os municípios brasileiros. O objetivo é estudar características e propor políticas adequadas nas áreas de Educação, Saúde e aumento de Renda. Para auxiliar nesse estudo, utilize a base de dados `cidades_do_brasil.xlsx`  e responda às seguintes perguntas:"
   ]
  },
  {
   "cell_type": "markdown",
   "id": "0f0532c9-7988-4aef-a256-1f6e05d479db",
   "metadata": {},
   "source": [
    "# 0.0 Importações"
   ]
  },
  {
   "cell_type": "markdown",
   "id": "4fe9fa6b-be60-49d5-8f38-cc6b78925ec7",
   "metadata": {},
   "source": [
    "## 0.1 Importação das libs"
   ]
  },
  {
   "cell_type": "code",
   "execution_count": 120,
   "id": "8c11f9c8-8989-4b6b-bb99-3b59f62aff6f",
   "metadata": {},
   "outputs": [],
   "source": [
    "#calculo\n",
    "import numpy as np\n",
    "\n",
    "#manipulação de dados\n",
    "import pandas as pd\n",
    "\n",
    "#visualizacao dos dados\n",
    "import seaborn as sns\n",
    "import matplotlib.pyplot as plt\n",
    "\n",
    "#utilidades\n",
    "import inflection"
   ]
  },
  {
   "cell_type": "markdown",
   "id": "580590ae-4572-4b59-b67a-fb2a1f264150",
   "metadata": {},
   "source": [
    "## 0.2 Importação dos dados"
   ]
  },
  {
   "cell_type": "code",
   "execution_count": 14,
   "id": "350081c5-a36a-4fa5-9e3a-59e00a82768e",
   "metadata": {},
   "outputs": [
    {
     "data": {
      "text/html": [
       "<div>\n",
       "<style scoped>\n",
       "    .dataframe tbody tr th:only-of-type {\n",
       "        vertical-align: middle;\n",
       "    }\n",
       "\n",
       "    .dataframe tbody tr th {\n",
       "        vertical-align: top;\n",
       "    }\n",
       "\n",
       "    .dataframe thead th {\n",
       "        text-align: right;\n",
       "    }\n",
       "</style>\n",
       "<table border=\"1\" class=\"dataframe\">\n",
       "  <thead>\n",
       "    <tr style=\"text-align: right;\">\n",
       "      <th></th>\n",
       "      <th>Município</th>\n",
       "      <th>Estado</th>\n",
       "      <th>IBGE_1-4</th>\n",
       "      <th>IDHM</th>\n",
       "      <th>IDHM_Renda</th>\n",
       "      <th>IDHM_Educacao</th>\n",
       "      <th>GDP_CAPITA</th>\n",
       "      <th>COMP_P</th>\n",
       "      <th>Valor Vazio</th>\n",
       "    </tr>\n",
       "  </thead>\n",
       "  <tbody>\n",
       "    <tr>\n",
       "      <th>0</th>\n",
       "      <td>Mojuí Dos Campos</td>\n",
       "      <td>PA</td>\n",
       "      <td>NaN</td>\n",
       "      <td>NaN</td>\n",
       "      <td>NaN</td>\n",
       "      <td>NaN</td>\n",
       "      <td>8831.56</td>\n",
       "      <td>41.0</td>\n",
       "      <td>1</td>\n",
       "    </tr>\n",
       "    <tr>\n",
       "      <th>1</th>\n",
       "      <td>Paraíso Das Águas</td>\n",
       "      <td>MS</td>\n",
       "      <td>NaN</td>\n",
       "      <td>NaN</td>\n",
       "      <td>NaN</td>\n",
       "      <td>NaN</td>\n",
       "      <td>92163.92</td>\n",
       "      <td>3.0</td>\n",
       "      <td>1</td>\n",
       "    </tr>\n",
       "    <tr>\n",
       "      <th>2</th>\n",
       "      <td>Balneário Rincão</td>\n",
       "      <td>SC</td>\n",
       "      <td>NaN</td>\n",
       "      <td>NaN</td>\n",
       "      <td>NaN</td>\n",
       "      <td>NaN</td>\n",
       "      <td>17788.63</td>\n",
       "      <td>3.0</td>\n",
       "      <td>1</td>\n",
       "    </tr>\n",
       "    <tr>\n",
       "      <th>3</th>\n",
       "      <td>Pescaria Brava</td>\n",
       "      <td>SC</td>\n",
       "      <td>NaN</td>\n",
       "      <td>NaN</td>\n",
       "      <td>NaN</td>\n",
       "      <td>NaN</td>\n",
       "      <td>8341.33</td>\n",
       "      <td>14.0</td>\n",
       "      <td>1</td>\n",
       "    </tr>\n",
       "    <tr>\n",
       "      <th>4</th>\n",
       "      <td>Santa Terezinha</td>\n",
       "      <td>BA</td>\n",
       "      <td>126.0</td>\n",
       "      <td>NaN</td>\n",
       "      <td>NaN</td>\n",
       "      <td>NaN</td>\n",
       "      <td>6796.16</td>\n",
       "      <td>12.0</td>\n",
       "      <td>1</td>\n",
       "    </tr>\n",
       "  </tbody>\n",
       "</table>\n",
       "</div>"
      ],
      "text/plain": [
       "           Município Estado  IBGE_1-4  IDHM  IDHM_Renda  IDHM_Educacao  \\\n",
       "0   Mojuí Dos Campos     PA       NaN   NaN         NaN            NaN   \n",
       "1  Paraíso Das Águas     MS       NaN   NaN         NaN            NaN   \n",
       "2   Balneário Rincão     SC       NaN   NaN         NaN            NaN   \n",
       "3     Pescaria Brava     SC       NaN   NaN         NaN            NaN   \n",
       "4    Santa Terezinha     BA     126.0   NaN         NaN            NaN   \n",
       "\n",
       "   GDP_CAPITA  COMP_P  Valor Vazio  \n",
       "0     8831.56    41.0            1  \n",
       "1    92163.92     3.0            1  \n",
       "2    17788.63     3.0            1  \n",
       "3     8341.33    14.0            1  \n",
       "4     6796.16    12.0            1  "
      ]
     },
     "execution_count": 14,
     "metadata": {},
     "output_type": "execute_result"
    }
   ],
   "source": [
    "df_raw = pd.read_excel(\"cidades_do_brasil.xlsx\")\n",
    "df_raw.head()"
   ]
  },
  {
   "cell_type": "markdown",
   "id": "a9235dcb-9a00-4fe3-b66d-94e8f92b065f",
   "metadata": {},
   "source": [
    "# 1.0 Descrição e ajustes dos dados"
   ]
  },
  {
   "cell_type": "code",
   "execution_count": 24,
   "id": "95a63b29-e232-421a-91ad-b7d764b625be",
   "metadata": {},
   "outputs": [],
   "source": [
    "df1 = df_raw.copy()"
   ]
  },
  {
   "cell_type": "markdown",
   "id": "5fe5bc0a-f436-436a-a5b6-c6923147cc7b",
   "metadata": {},
   "source": [
    "## 1.1 Ajuste das colunas"
   ]
  },
  {
   "cell_type": "code",
   "execution_count": 26,
   "id": "5d50fb56-48ac-4e34-a136-196213a70358",
   "metadata": {},
   "outputs": [
    {
     "data": {
      "text/plain": [
       "Index(['município', 'estado', 'ibge_1_4', 'idhm', 'idhm_renda',\n",
       "       'idhm_educacao', 'gdp_capita', 'comp_p', 'valor vazio'],\n",
       "      dtype='object')"
      ]
     },
     "execution_count": 26,
     "metadata": {},
     "output_type": "execute_result"
    }
   ],
   "source": [
    "cols_old = df1.columns\n",
    "\n",
    "#trocar as palavras para snakecase onde elas são separadas por underlines\n",
    "snakecase = lambda x: inflection.underscore( x )\n",
    "\n",
    "cols_new = list(map(snakecase, cols_old))\n",
    "\n",
    "df1.columns = cols_new\n",
    "df1.columns"
   ]
  },
  {
   "cell_type": "markdown",
   "id": "612bea60-d79b-442e-b79d-2a58ea53e551",
   "metadata": {},
   "source": [
    "## 1.2 Dimensões dos dados"
   ]
  },
  {
   "cell_type": "code",
   "execution_count": 34,
   "id": "ad7e3b75-752c-4a6f-8b83-ff51cb2bb362",
   "metadata": {},
   "outputs": [
    {
     "name": "stdout",
     "output_type": "stream",
     "text": [
      "linhas: 5576\n",
      "colunas: 9\n"
     ]
    }
   ],
   "source": [
    "print(f\"linhas: {df1.shape[0]}\")\n",
    "print(f\"colunas: {df1.shape[1]}\")"
   ]
  },
  {
   "cell_type": "markdown",
   "id": "90501855-6f21-4fd0-9a34-b273c2d9b4e0",
   "metadata": {},
   "source": [
    "## 1.3 Checagem de NAs"
   ]
  },
  {
   "cell_type": "code",
   "execution_count": 41,
   "id": "a670f51d-adfc-4675-9e0a-6f590695003f",
   "metadata": {},
   "outputs": [
    {
     "data": {
      "text/plain": [
       "município        0\n",
       "estado           0\n",
       "ibge_1_4         8\n",
       "idhm             8\n",
       "idhm_renda       8\n",
       "idhm_educacao    8\n",
       "gdp_capita       3\n",
       "comp_p           3\n",
       "valor vazio      0\n",
       "dtype: int64"
      ]
     },
     "execution_count": 41,
     "metadata": {},
     "output_type": "execute_result"
    }
   ],
   "source": [
    "df1.isna().sum()"
   ]
  },
  {
   "cell_type": "code",
   "execution_count": 43,
   "id": "b7cc4282-f15e-4f96-b489-d820d0d022f7",
   "metadata": {},
   "outputs": [
    {
     "data": {
      "text/plain": [
       "município        0\n",
       "estado           0\n",
       "ibge_1_4         0\n",
       "idhm             0\n",
       "idhm_renda       0\n",
       "idhm_educacao    0\n",
       "gdp_capita       0\n",
       "comp_p           0\n",
       "valor vazio      0\n",
       "dtype: int64"
      ]
     },
     "execution_count": 43,
     "metadata": {},
     "output_type": "execute_result"
    }
   ],
   "source": [
    "df1.dropna(axis=0, inplace=True)\n",
    "df1.isna().sum()"
   ]
  },
  {
   "cell_type": "markdown",
   "id": "a44f457c-c7a6-4b58-8edb-604a24ed038c",
   "metadata": {},
   "source": [
    "## 1.4 Descrição dos dados"
   ]
  },
  {
   "cell_type": "code",
   "execution_count": 48,
   "id": "8b3475f0-fcaf-4f4d-abd1-241ff8c8886b",
   "metadata": {},
   "outputs": [
    {
     "data": {
      "text/html": [
       "<div>\n",
       "<style scoped>\n",
       "    .dataframe tbody tr th:only-of-type {\n",
       "        vertical-align: middle;\n",
       "    }\n",
       "\n",
       "    .dataframe tbody tr th {\n",
       "        vertical-align: top;\n",
       "    }\n",
       "\n",
       "    .dataframe thead th {\n",
       "        text-align: right;\n",
       "    }\n",
       "</style>\n",
       "<table border=\"1\" class=\"dataframe\">\n",
       "  <thead>\n",
       "    <tr style=\"text-align: right;\">\n",
       "      <th></th>\n",
       "      <th>ibge_1_4</th>\n",
       "      <th>idhm</th>\n",
       "      <th>idhm_renda</th>\n",
       "      <th>idhm_educacao</th>\n",
       "      <th>gdp_capita</th>\n",
       "      <th>comp_p</th>\n",
       "      <th>valor vazio</th>\n",
       "    </tr>\n",
       "  </thead>\n",
       "  <tbody>\n",
       "    <tr>\n",
       "      <th>count</th>\n",
       "      <td>5567.000000</td>\n",
       "      <td>5567.000000</td>\n",
       "      <td>5567.000000</td>\n",
       "      <td>5567.000000</td>\n",
       "      <td>5567.000000</td>\n",
       "      <td>5567.000000</td>\n",
       "      <td>5567.0</td>\n",
       "    </tr>\n",
       "    <tr>\n",
       "      <th>mean</th>\n",
       "      <td>1545.113526</td>\n",
       "      <td>0.659236</td>\n",
       "      <td>0.642935</td>\n",
       "      <td>0.559154</td>\n",
       "      <td>21125.217676</td>\n",
       "      <td>30.993893</td>\n",
       "      <td>0.0</td>\n",
       "    </tr>\n",
       "    <tr>\n",
       "      <th>std</th>\n",
       "      <td>9251.500532</td>\n",
       "      <td>0.071971</td>\n",
       "      <td>0.080665</td>\n",
       "      <td>0.093350</td>\n",
       "      <td>20314.102511</td>\n",
       "      <td>261.076631</td>\n",
       "      <td>0.0</td>\n",
       "    </tr>\n",
       "    <tr>\n",
       "      <th>min</th>\n",
       "      <td>5.000000</td>\n",
       "      <td>0.418000</td>\n",
       "      <td>0.400000</td>\n",
       "      <td>0.207000</td>\n",
       "      <td>3190.570000</td>\n",
       "      <td>0.000000</td>\n",
       "      <td>0.0</td>\n",
       "    </tr>\n",
       "    <tr>\n",
       "      <th>25%</th>\n",
       "      <td>158.000000</td>\n",
       "      <td>0.599000</td>\n",
       "      <td>0.572000</td>\n",
       "      <td>0.490000</td>\n",
       "      <td>9063.325000</td>\n",
       "      <td>2.000000</td>\n",
       "      <td>0.0</td>\n",
       "    </tr>\n",
       "    <tr>\n",
       "      <th>50%</th>\n",
       "      <td>377.000000</td>\n",
       "      <td>0.665000</td>\n",
       "      <td>0.654000</td>\n",
       "      <td>0.560000</td>\n",
       "      <td>15879.960000</td>\n",
       "      <td>6.000000</td>\n",
       "      <td>0.0</td>\n",
       "    </tr>\n",
       "    <tr>\n",
       "      <th>75%</th>\n",
       "      <td>952.000000</td>\n",
       "      <td>0.718000</td>\n",
       "      <td>0.707000</td>\n",
       "      <td>0.631000</td>\n",
       "      <td>26160.055000</td>\n",
       "      <td>17.000000</td>\n",
       "      <td>0.0</td>\n",
       "    </tr>\n",
       "    <tr>\n",
       "      <th>max</th>\n",
       "      <td>514794.000000</td>\n",
       "      <td>0.862000</td>\n",
       "      <td>0.891000</td>\n",
       "      <td>0.825000</td>\n",
       "      <td>314637.690000</td>\n",
       "      <td>16030.000000</td>\n",
       "      <td>0.0</td>\n",
       "    </tr>\n",
       "  </tbody>\n",
       "</table>\n",
       "</div>"
      ],
      "text/plain": [
       "            ibge_1_4         idhm   idhm_renda  idhm_educacao     gdp_capita  \\\n",
       "count    5567.000000  5567.000000  5567.000000    5567.000000    5567.000000   \n",
       "mean     1545.113526     0.659236     0.642935       0.559154   21125.217676   \n",
       "std      9251.500532     0.071971     0.080665       0.093350   20314.102511   \n",
       "min         5.000000     0.418000     0.400000       0.207000    3190.570000   \n",
       "25%       158.000000     0.599000     0.572000       0.490000    9063.325000   \n",
       "50%       377.000000     0.665000     0.654000       0.560000   15879.960000   \n",
       "75%       952.000000     0.718000     0.707000       0.631000   26160.055000   \n",
       "max    514794.000000     0.862000     0.891000       0.825000  314637.690000   \n",
       "\n",
       "             comp_p  valor vazio  \n",
       "count   5567.000000       5567.0  \n",
       "mean      30.993893          0.0  \n",
       "std      261.076631          0.0  \n",
       "min        0.000000          0.0  \n",
       "25%        2.000000          0.0  \n",
       "50%        6.000000          0.0  \n",
       "75%       17.000000          0.0  \n",
       "max    16030.000000          0.0  "
      ]
     },
     "execution_count": 48,
     "metadata": {},
     "output_type": "execute_result"
    }
   ],
   "source": [
    "df1.describe()"
   ]
  },
  {
   "cell_type": "code",
   "execution_count": 55,
   "id": "6e730404-c8e7-43cb-9199-18056a35b5a5",
   "metadata": {},
   "outputs": [
    {
     "data": {
      "text/plain": [
       "<Axes: xlabel='idhm', ylabel='Count'>"
      ]
     },
     "execution_count": 55,
     "metadata": {},
     "output_type": "execute_result"
    },
    {
     "data": {
      "image/png": "[encoded data removed]",
      "text/plain": [
       "<Figure size 640x480 with 1 Axes>"
      ]
     },
     "metadata": {},
     "output_type": "display_data"
    }
   ],
   "source": [
    "sns.histplot(df1[\"idhm\"])"
   ]
  },
  {
   "cell_type": "markdown",
   "id": "45ec6f5e-ebe9-44fe-a627-11172aa7915c",
   "metadata": {},
   "source": [
    "# 2.0 Feature engeneering"
   ]
  },
  {
   "cell_type": "markdown",
   "id": "676711b5-e2d8-48be-9066-92eec3643f63",
   "metadata": {},
   "source": [
    "## 2.1 Mapeamento das regiões"
   ]
  },
  {
   "cell_type": "code",
   "execution_count": 63,
   "id": "563513cb-d983-4048-911e-fe22277eb731",
   "metadata": {},
   "outputs": [],
   "source": [
    "estados_por_regiao = {\n",
    "    \"Norte\": [\"AC\", \"AP\", \"AM\", \"PA\", \"RO\", \"RR\", \"TO\"],\n",
    "    \"Nordeste\": [\"AL\", \"BA\", \"CE\", \"MA\", \"PB\", \"PE\", \"PI\", \"RN\", \"SE\"],\n",
    "    \"Centro-Oeste\": [\"DF\", \"GO\", \"MT\", \"MS\"],\n",
    "    \"Sudeste\": [\"ES\", \"MG\", \"RJ\", \"SP\"],\n",
    "    \"Sul\": [\"PR\", \"RS\", \"SC\"]\n",
    "}"
   ]
  },
  {
   "cell_type": "code",
   "execution_count": 74,
   "id": "e547e554-59f1-4e60-90dd-e7cb497aead8",
   "metadata": {},
   "outputs": [],
   "source": [
    "def mapear_regiao(sigla):\n",
    "    for regiao, estados in estados_por_regiao.items():\n",
    "        if sigla.upper() in estados:\n",
    "            return regiao\n",
    "    return \"Sigla inválida\""
   ]
  },
  {
   "cell_type": "code",
   "execution_count": 76,
   "id": "efe765ec-e4f4-4eb8-a1b7-eb4d7a78e2a7",
   "metadata": {},
   "outputs": [],
   "source": [
    "df1[\"regiao\"] = df1[\"estado\"].apply(lambda x: mapear_regiao(x))"
   ]
  },
  {
   "cell_type": "code",
   "execution_count": 78,
   "id": "af3c7982-1f67-4706-add1-a547eb40ef4c",
   "metadata": {},
   "outputs": [
    {
     "data": {
      "text/html": [
       "<div>\n",
       "<style scoped>\n",
       "    .dataframe tbody tr th:only-of-type {\n",
       "        vertical-align: middle;\n",
       "    }\n",
       "\n",
       "    .dataframe tbody tr th {\n",
       "        vertical-align: top;\n",
       "    }\n",
       "\n",
       "    .dataframe thead th {\n",
       "        text-align: right;\n",
       "    }\n",
       "</style>\n",
       "<table border=\"1\" class=\"dataframe\">\n",
       "  <thead>\n",
       "    <tr style=\"text-align: right;\">\n",
       "      <th></th>\n",
       "      <th>município</th>\n",
       "      <th>estado</th>\n",
       "      <th>ibge_1_4</th>\n",
       "      <th>idhm</th>\n",
       "      <th>idhm_renda</th>\n",
       "      <th>idhm_educacao</th>\n",
       "      <th>gdp_capita</th>\n",
       "      <th>comp_p</th>\n",
       "      <th>valor vazio</th>\n",
       "      <th>regiao</th>\n",
       "    </tr>\n",
       "  </thead>\n",
       "  <tbody>\n",
       "    <tr>\n",
       "      <th>9</th>\n",
       "      <td>São Paulo</td>\n",
       "      <td>SP</td>\n",
       "      <td>514794.0</td>\n",
       "      <td>0.805</td>\n",
       "      <td>0.843</td>\n",
       "      <td>0.725</td>\n",
       "      <td>57071.43</td>\n",
       "      <td>16030.0</td>\n",
       "      <td>0</td>\n",
       "      <td>Sudeste</td>\n",
       "    </tr>\n",
       "    <tr>\n",
       "      <th>10</th>\n",
       "      <td>Osasco</td>\n",
       "      <td>SP</td>\n",
       "      <td>32305.0</td>\n",
       "      <td>0.780</td>\n",
       "      <td>0.776</td>\n",
       "      <td>0.718</td>\n",
       "      <td>106841.78</td>\n",
       "      <td>527.0</td>\n",
       "      <td>0</td>\n",
       "      <td>Sudeste</td>\n",
       "    </tr>\n",
       "    <tr>\n",
       "      <th>11</th>\n",
       "      <td>Rio De Janeiro</td>\n",
       "      <td>RJ</td>\n",
       "      <td>235380.0</td>\n",
       "      <td>0.799</td>\n",
       "      <td>0.840</td>\n",
       "      <td>0.719</td>\n",
       "      <td>50690.82</td>\n",
       "      <td>6744.0</td>\n",
       "      <td>0</td>\n",
       "      <td>Sudeste</td>\n",
       "    </tr>\n",
       "    <tr>\n",
       "      <th>12</th>\n",
       "      <td>Brasília</td>\n",
       "      <td>DF</td>\n",
       "      <td>143641.0</td>\n",
       "      <td>0.820</td>\n",
       "      <td>0.863</td>\n",
       "      <td>0.742</td>\n",
       "      <td>79099.77</td>\n",
       "      <td>3043.0</td>\n",
       "      <td>0</td>\n",
       "      <td>Centro-Oeste</td>\n",
       "    </tr>\n",
       "    <tr>\n",
       "      <th>13</th>\n",
       "      <td>Porto Alegre</td>\n",
       "      <td>RS</td>\n",
       "      <td>58369.0</td>\n",
       "      <td>0.805</td>\n",
       "      <td>0.867</td>\n",
       "      <td>0.702</td>\n",
       "      <td>49577.53</td>\n",
       "      <td>2217.0</td>\n",
       "      <td>0</td>\n",
       "      <td>Sul</td>\n",
       "    </tr>\n",
       "  </tbody>\n",
       "</table>\n",
       "</div>"
      ],
      "text/plain": [
       "         município estado  ibge_1_4   idhm  idhm_renda  idhm_educacao  \\\n",
       "9        São Paulo     SP  514794.0  0.805       0.843          0.725   \n",
       "10          Osasco     SP   32305.0  0.780       0.776          0.718   \n",
       "11  Rio De Janeiro     RJ  235380.0  0.799       0.840          0.719   \n",
       "12        Brasília     DF  143641.0  0.820       0.863          0.742   \n",
       "13    Porto Alegre     RS   58369.0  0.805       0.867          0.702   \n",
       "\n",
       "    gdp_capita   comp_p  valor vazio        regiao  \n",
       "9     57071.43  16030.0            0       Sudeste  \n",
       "10   106841.78    527.0            0       Sudeste  \n",
       "11    50690.82   6744.0            0       Sudeste  \n",
       "12    79099.77   3043.0            0  Centro-Oeste  \n",
       "13    49577.53   2217.0            0           Sul  "
      ]
     },
     "execution_count": 78,
     "metadata": {},
     "output_type": "execute_result"
    }
   ],
   "source": [
    "df1.head()"
   ]
  },
  {
   "cell_type": "markdown",
   "id": "00966f94-7e34-44f5-92c8-dde1d7bf3daa",
   "metadata": {},
   "source": [
    "## 2.2 mapeamento do idh segundo classificacao da ONU"
   ]
  },
  {
   "cell_type": "code",
   "execution_count": 114,
   "id": "b3cf73e6-5962-4441-b952-0d4f114fcbbe",
   "metadata": {},
   "outputs": [],
   "source": [
    "def classificar_idh(idh):\n",
    "    if idh <= 0.550:\n",
    "        return \"baixo\"\n",
    "    elif idh <= 0.699:\n",
    "        return \"medio\"\n",
    "    elif idh <= 0.799:\n",
    "        return \"alto\"\n",
    "    else:\n",
    "        return \"muito alto\""
   ]
  },
  {
   "cell_type": "code",
   "execution_count": 116,
   "id": "ad597934-a74f-4129-93a9-8910107b74e5",
   "metadata": {},
   "outputs": [],
   "source": [
    "df1[\"situacao\"] = df1[\"idhm\"].apply(lambda x: classificar_idh(x))"
   ]
  },
  {
   "cell_type": "code",
   "execution_count": 118,
   "id": "edbd544d-e1fd-4e96-8b3b-15fda43e50a6",
   "metadata": {},
   "outputs": [
    {
     "data": {
      "text/html": [
       "<div>\n",
       "<style scoped>\n",
       "    .dataframe tbody tr th:only-of-type {\n",
       "        vertical-align: middle;\n",
       "    }\n",
       "\n",
       "    .dataframe tbody tr th {\n",
       "        vertical-align: top;\n",
       "    }\n",
       "\n",
       "    .dataframe thead th {\n",
       "        text-align: right;\n",
       "    }\n",
       "</style>\n",
       "<table border=\"1\" class=\"dataframe\">\n",
       "  <thead>\n",
       "    <tr style=\"text-align: right;\">\n",
       "      <th></th>\n",
       "      <th>município</th>\n",
       "      <th>estado</th>\n",
       "      <th>ibge_1_4</th>\n",
       "      <th>idhm</th>\n",
       "      <th>idhm_renda</th>\n",
       "      <th>idhm_educacao</th>\n",
       "      <th>gdp_capita</th>\n",
       "      <th>comp_p</th>\n",
       "      <th>valor vazio</th>\n",
       "      <th>regiao</th>\n",
       "      <th>situacao</th>\n",
       "    </tr>\n",
       "  </thead>\n",
       "  <tbody>\n",
       "    <tr>\n",
       "      <th>9</th>\n",
       "      <td>São Paulo</td>\n",
       "      <td>SP</td>\n",
       "      <td>514794.0</td>\n",
       "      <td>0.805</td>\n",
       "      <td>0.843</td>\n",
       "      <td>0.725</td>\n",
       "      <td>57071.43</td>\n",
       "      <td>16030.0</td>\n",
       "      <td>0</td>\n",
       "      <td>Sudeste</td>\n",
       "      <td>muito alto</td>\n",
       "    </tr>\n",
       "    <tr>\n",
       "      <th>10</th>\n",
       "      <td>Osasco</td>\n",
       "      <td>SP</td>\n",
       "      <td>32305.0</td>\n",
       "      <td>0.780</td>\n",
       "      <td>0.776</td>\n",
       "      <td>0.718</td>\n",
       "      <td>106841.78</td>\n",
       "      <td>527.0</td>\n",
       "      <td>0</td>\n",
       "      <td>Sudeste</td>\n",
       "      <td>alto</td>\n",
       "    </tr>\n",
       "    <tr>\n",
       "      <th>11</th>\n",
       "      <td>Rio De Janeiro</td>\n",
       "      <td>RJ</td>\n",
       "      <td>235380.0</td>\n",
       "      <td>0.799</td>\n",
       "      <td>0.840</td>\n",
       "      <td>0.719</td>\n",
       "      <td>50690.82</td>\n",
       "      <td>6744.0</td>\n",
       "      <td>0</td>\n",
       "      <td>Sudeste</td>\n",
       "      <td>alto</td>\n",
       "    </tr>\n",
       "    <tr>\n",
       "      <th>12</th>\n",
       "      <td>Brasília</td>\n",
       "      <td>DF</td>\n",
       "      <td>143641.0</td>\n",
       "      <td>0.820</td>\n",
       "      <td>0.863</td>\n",
       "      <td>0.742</td>\n",
       "      <td>79099.77</td>\n",
       "      <td>3043.0</td>\n",
       "      <td>0</td>\n",
       "      <td>Centro-Oeste</td>\n",
       "      <td>muito alto</td>\n",
       "    </tr>\n",
       "    <tr>\n",
       "      <th>13</th>\n",
       "      <td>Porto Alegre</td>\n",
       "      <td>RS</td>\n",
       "      <td>58369.0</td>\n",
       "      <td>0.805</td>\n",
       "      <td>0.867</td>\n",
       "      <td>0.702</td>\n",
       "      <td>49577.53</td>\n",
       "      <td>2217.0</td>\n",
       "      <td>0</td>\n",
       "      <td>Sul</td>\n",
       "      <td>muito alto</td>\n",
       "    </tr>\n",
       "  </tbody>\n",
       "</table>\n",
       "</div>"
      ],
      "text/plain": [
       "         município estado  ibge_1_4   idhm  idhm_renda  idhm_educacao  \\\n",
       "9        São Paulo     SP  514794.0  0.805       0.843          0.725   \n",
       "10          Osasco     SP   32305.0  0.780       0.776          0.718   \n",
       "11  Rio De Janeiro     RJ  235380.0  0.799       0.840          0.719   \n",
       "12        Brasília     DF  143641.0  0.820       0.863          0.742   \n",
       "13    Porto Alegre     RS   58369.0  0.805       0.867          0.702   \n",
       "\n",
       "    gdp_capita   comp_p  valor vazio        regiao    situacao  \n",
       "9     57071.43  16030.0            0       Sudeste  muito alto  \n",
       "10   106841.78    527.0            0       Sudeste        alto  \n",
       "11    50690.82   6744.0            0       Sudeste        alto  \n",
       "12    79099.77   3043.0            0  Centro-Oeste  muito alto  \n",
       "13    49577.53   2217.0            0           Sul  muito alto  "
      ]
     },
     "execution_count": 118,
     "metadata": {},
     "output_type": "execute_result"
    }
   ],
   "source": [
    "df1.head()"
   ]
  },
  {
   "cell_type": "markdown",
   "id": "1baf7b99-baf0-4eff-b189-94a7efcd5fff",
   "metadata": {},
   "source": [
    "# 3.0 Ánalise dos dados visando as questões de sala"
   ]
  },
  {
   "cell_type": "markdown",
   "id": "8b565619-83f2-4b56-845e-53d9f29c0e0f",
   "metadata": {},
   "source": [
    "a) Quartil Inferior:\n",
    "- Qual o valor que separa os 25% dos municípios com os menores IDHM? Utilize o conceito de quartis."
   ]
  },
  {
   "cell_type": "code",
   "execution_count": 105,
   "id": "9ee0e631-9dbb-45b8-a7cc-4507a5a2f9b4",
   "metadata": {},
   "outputs": [
    {
     "name": "stdout",
     "output_type": "stream",
     "text": [
      "Quartil que sepada as cidades por idh 0.599\n",
      "quantidade de cidades abaixo do 25% de idh: 1367\n"
     ]
    }
   ],
   "source": [
    "quartil1 = df1['idhm'].quantile(0.25)\n",
    "print(f\"Quartil que sepada as cidades por idh {quartil1}\")\n",
    "separacao = df1[\"idhm\"] < quartil1\n",
    "print(f\"quantidade de cidades abaixo do 25% de idh: {len(df1.loc[separacao, :]['município'].tolist())}\")"
   ]
  },
  {
   "cell_type": "markdown",
   "id": "92cca355-89fa-428e-828d-9e9fc4dc7881",
   "metadata": {},
   "source": [
    "b) Concentração Geográfica:\n",
    "- Considerando os municípios com menor IDHM, existe uma concentração em algum estado ou distrito? Utilize o conceito de Pareto para fundamentar sua resposta."
   ]
  },
  {
   "cell_type": "code",
   "execution_count": 156,
   "id": "dc80c61a-f5a1-4d36-af19-a0622c8c5d96",
   "metadata": {},
   "outputs": [
    {
     "data": {
      "text/plain": [
       "<Axes: ylabel='estado'>"
      ]
     },
     "execution_count": 156,
     "metadata": {},
     "output_type": "execute_result"
    },
    {
     "data": {
      "image/png": "[encoded data removed]",
      "text/plain": [
       "<Figure size 640x480 with 1 Axes>"
      ]
     },
     "metadata": {},
     "output_type": "display_data"
    }
   ],
   "source": [
    "q1 = df1[\"idhm\"].quantile(0.25)\n",
    "q2 = df1[\"idhm\"].median()\n",
    "\n",
    "intervalo = (df1[\"idhm\"] > q1) & (df1[\"idhm\"] < q2)\n",
    "cidades = df1.loc[intervalo, :]\n",
    "frequencia = cidades[\"estado\"].value_counts()[:10].sort_values()\n",
    "frequencia.plot(kind=\"barh\")"
   ]
  },
  {
   "cell_type": "markdown",
   "id": "089b978b-08f2-489a-a370-0c0455c1f46b",
   "metadata": {},
   "source": [
    "- A ONU classifica o IDH em quatro faixas:\n",
    "  - Baixo: < 0,550\n",
    "  - Médio: 0,550 - 0,699\n",
    "  - Alto: 0,700 - 0,799\n",
    "  - Muito Alto: >= 0,800\n",
    "  - Pergunta: Com base nessa classificação, analise a situação atual do Brasil e de cada região."
   ]
  },
  {
   "cell_type": "code",
   "execution_count": 132,
   "id": "85bd965d-9404-4ad2-b392-aac07c560e1c",
   "metadata": {},
   "outputs": [
    {
     "data": {
      "text/plain": [
       "<Axes: xlabel='situacao'>"
      ]
     },
     "execution_count": 132,
     "metadata": {},
     "output_type": "execute_result"
    },
    {
     "data": {
      "image/png": "[encoded data removed]",
      "text/plain": [
       "<Figure size 640x480 with 1 Axes>"
      ]
     },
     "metadata": {},
     "output_type": "display_data"
    }
   ],
   "source": [
    "frequencia = df1[\"situacao\"].value_counts()\n",
    "frequencia.plot(kind = \"bar\")"
   ]
  },
  {
   "cell_type": "code",
   "execution_count": 126,
   "id": "87d4f9d9-d960-46c0-b5b2-2162fd3e7d61",
   "metadata": {},
   "outputs": [
    {
     "data": {
      "text/plain": [
       "<Axes: xlabel='regiao'>"
      ]
     },
     "execution_count": 126,
     "metadata": {},
     "output_type": "execute_result"
    },
    {
     "data": {
      "image/png": "[encoded data removed]",
      "text/plain": [
       "<Figure size 640x480 with 1 Axes>"
      ]
     },
     "metadata": {},
     "output_type": "display_data"
    }
   ],
   "source": [
    "contagem = pd.crosstab(df1[\"regiao\"], df1[\"situacao\"])\n",
    "contagem.plot(kind=\"bar\", stacked=True, colormap=\"viridis\")"
   ]
  },
  {
   "cell_type": "markdown",
   "id": "f012283b-5595-4c3b-9679-ee8eae785b21",
   "metadata": {},
   "source": [
    "## Educacao infantil"
   ]
  },
  {
   "cell_type": "markdown",
   "id": "78f74e7f-0521-40bb-be6e-a1b5ea7703ce",
   "metadata": {},
   "source": [
    "d) Boxplot por Região:\n",
    "- Construa um boxplot da variável IDHM_Educacao por região (NO, NE, SE, S e CO). Comente as semelhanças e diferenças entre os gráficos."
   ]
  },
  {
   "cell_type": "code",
   "execution_count": 166,
   "id": "4783fdc3-6017-45e2-aa2a-6c6406a3a3fe",
   "metadata": {},
   "outputs": [
    {
     "data": {
      "text/plain": [
       "<Axes: xlabel='regiao', ylabel='idhm_educacao'>"
      ]
     },
     "execution_count": 166,
     "metadata": {},
     "output_type": "execute_result"
    },
    {
     "data": {
      "image/png": "[encoded data removed]",
      "text/plain": [
       "<Figure size 640x480 with 1 Axes>"
      ]
     },
     "metadata": {},
     "output_type": "display_data"
    }
   ],
   "source": [
    "sns.boxplot(x=\"regiao\", y=\"idhm_educacao\", data=df1, palette=\"Set2\")"
   ]
  },
  {
   "cell_type": "markdown",
   "id": "8944fb45-7bf0-4684-ba3a-e234f2d5b8d2",
   "metadata": {},
   "source": [
    "e) Municípios com Mais Crianças:  \n",
    "- Na região com a menor média de IDHM_Educacao, identifique os municípios que estão acima do 3º quartil nacional em relação à quantidade de crianças com idade entre 1 e 4 anos (variável IBGE_1-4)."
   ]
  },
  {
   "cell_type": "code",
   "execution_count": 179,
   "id": "0c0585b5-40af-4071-9a61-d776ad137f88",
   "metadata": {},
   "outputs": [
    {
     "data": {
      "text/html": [
       "<div>\n",
       "<style scoped>\n",
       "    .dataframe tbody tr th:only-of-type {\n",
       "        vertical-align: middle;\n",
       "    }\n",
       "\n",
       "    .dataframe tbody tr th {\n",
       "        vertical-align: top;\n",
       "    }\n",
       "\n",
       "    .dataframe thead th {\n",
       "        text-align: right;\n",
       "    }\n",
       "</style>\n",
       "<table border=\"1\" class=\"dataframe\">\n",
       "  <thead>\n",
       "    <tr style=\"text-align: right;\">\n",
       "      <th></th>\n",
       "      <th>idhm_educacao</th>\n",
       "    </tr>\n",
       "    <tr>\n",
       "      <th>regiao</th>\n",
       "      <th></th>\n",
       "    </tr>\n",
       "  </thead>\n",
       "  <tbody>\n",
       "    <tr>\n",
       "      <th>Nordeste</th>\n",
       "      <td>0.488436</td>\n",
       "    </tr>\n",
       "    <tr>\n",
       "      <th>Norte</th>\n",
       "      <td>0.490428</td>\n",
       "    </tr>\n",
       "    <tr>\n",
       "      <th>Centro-Oeste</th>\n",
       "      <td>0.584142</td>\n",
       "    </tr>\n",
       "    <tr>\n",
       "      <th>Sudeste</th>\n",
       "      <td>0.608254</td>\n",
       "    </tr>\n",
       "    <tr>\n",
       "      <th>Sul</th>\n",
       "      <td>0.612991</td>\n",
       "    </tr>\n",
       "  </tbody>\n",
       "</table>\n",
       "</div>"
      ],
      "text/plain": [
       "              idhm_educacao\n",
       "regiao                     \n",
       "Nordeste           0.488436\n",
       "Norte              0.490428\n",
       "Centro-Oeste       0.584142\n",
       "Sudeste            0.608254\n",
       "Sul                0.612991"
      ]
     },
     "execution_count": 179,
     "metadata": {},
     "output_type": "execute_result"
    }
   ],
   "source": [
    "aux1 = df1[[\"regiao\", \"idhm_educacao\"]].groupby(\"regiao\").mean()\n",
    "aux1.sort_values(by=\"idhm_educacao\")"
   ]
  },
  {
   "cell_type": "code",
   "execution_count": 221,
   "id": "4c900475-92b4-4404-9835-4e21af6dbca8",
   "metadata": {},
   "outputs": [
    {
     "name": "stdout",
     "output_type": "stream",
     "text": [
      "Quartil que sepada as cidades por quantidade de criancas 962.0\n",
      "quantidade de cidades abaixo do 75% de quantidade de criancas: 448\n"
     ]
    }
   ],
   "source": [
    "regiao = df1[\"regiao\"] == \"Nordeste\"\n",
    "aux1 = df1.loc[regiao, :]\n",
    "quartil3 = aux1['ibge_1_4'].quantile(0.75)\n",
    "print(f\"Quartil que sepada as cidades por quantidade de criancas {quartil3}\")\n",
    "separacao = aux1[\"ibge_1_4\"] > quartil3\n",
    "print(f\"quantidade de cidades abaixo do 75% de quantidade de criancas: {len(aux1.loc[separacao, :]['município'].tolist())}\")"
   ]
  },
  {
   "cell_type": "code",
   "execution_count": 194,
   "id": "51a9d1d3-a046-4fe3-8c49-e4ff71905620",
   "metadata": {},
   "outputs": [
    {
     "name": "stdout",
     "output_type": "stream",
     "text": [
      "['Condeúba', 'Parambu', 'Paramirim', 'Boquira', 'Caculé', 'Rio Do Pires', 'Monte Santo', 'Souto Soares', 'Piatã', 'Varjota', 'Cansanção', 'Tabuleiro Do Norte', 'Belém', 'Frecheirinha', 'Ituaçu', 'Muritiba', 'Cachoeira', 'Ibiapina', 'Ibicoara', 'Fernando De Noronha']\n"
     ]
    }
   ],
   "source": [
    "print(aux1.loc[separacao, :]['município'].tolist()[:20])"
   ]
  },
  {
   "cell_type": "markdown",
   "id": "e71632b6-e4a1-4f23-91b5-fb0442c1b259",
   "metadata": {},
   "source": [
    "f) Empresas de Educação:\n",
    "- Identifique os municípios que estão no 1º quartil nacional em relação à quantidade de empresas do setor educacional (variável COMP_P). Dessa forma, vamos priorizar municípios com poucas empresas de educação."
   ]
  },
  {
   "cell_type": "markdown",
   "id": "d7324636-4cb3-463a-83b5-9d329d5f03bf",
   "metadata": {},
   "source": [
    "g) Prioridade de Investimento: \n",
    "- Considerando as análises anteriores, proponha uma ordem de priorização para investimento na educação dessa região."
   ]
  },
  {
   "cell_type": "code",
   "execution_count": 219,
   "id": "54f09a6b-64ba-4627-a546-04ee94d967be",
   "metadata": {},
   "outputs": [
    {
     "data": {
      "text/plain": [
       "['Condeúba',\n",
       " 'Mirante',\n",
       " 'Rio Bom',\n",
       " 'Lajedão',\n",
       " 'Lajeado',\n",
       " 'Cedral',\n",
       " 'Montauri',\n",
       " 'Itaguatins',\n",
       " 'Pedranópolis',\n",
       " 'Barro Preto']"
      ]
     },
     "execution_count": 219,
     "metadata": {},
     "output_type": "execute_result"
    }
   ],
   "source": [
    "q1 = df1['comp_p'].quantile(0.25)\n",
    "separacao = df1[\"comp_p\"] < q1\n",
    "df_separado = df1[separacao]\n",
    "df_ordenado = df1[separacao].sort_values(by=\"comp_p\").head(10)\n",
    "df_ordenado[\"município\"].tolist()"
   ]
  },
  {
   "cell_type": "code",
   "execution_count": null,
   "id": "7e2bc376-a720-4e11-bfb9-586c8c4b1f9a",
   "metadata": {},
   "outputs": [],
   "source": []
  }
 ],
 "metadata": {
  "kernelspec": {
   "display_name": "Python 3 (ipykernel)",
   "language": "python",
   "name": "python3"
  },
  "language_info": {
   "codemirror_mode": {
    "name": "ipython",
    "version": 3
   },
   "file_extension": ".py",
   "mimetype": "text/x-python",
   "name": "python",
   "nbconvert_exporter": "python",
   "pygments_lexer": "ipython3",
   "version": "3.11.5"
  }
 },
 "nbformat": 4,
 "nbformat_minor": 5
}
